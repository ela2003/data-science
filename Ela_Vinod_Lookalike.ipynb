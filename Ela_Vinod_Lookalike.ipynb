{
 "cells": [
  {
   "cell_type": "code",
   "execution_count": 1,
   "id": "3abd017b-5b13-4cfe-8473-e8a37a14e23c",
   "metadata": {},
   "outputs": [],
   "source": [
    "import pandas as pd\n",
    "from sklearn.preprocessing import StandardScaler\n",
    "from sklearn.metrics.pairwise import cosine_similarity"
   ]
  },
  {
   "cell_type": "code",
   "execution_count": 5,
   "id": "4ac9b27a-64cf-44c0-bdc9-80931a4fb70f",
   "metadata": {},
   "outputs": [],
   "source": [
    "customers = pd.read_csv(r\"C:\\Users\\sajal\\Downloads\\Customers.csv\")\n",
    "products = pd.read_csv(r\"C:\\Users\\sajal\\Downloads\\Products.csv\")\n",
    "transactions = pd.read_csv(r\"C:\\Users\\sajal\\Downloads\\Transactions.csv\")"
   ]
  },
  {
   "cell_type": "code",
   "execution_count": 11,
   "id": "1f5cac25-f56b-4ade-96b7-8b31c02982ad",
   "metadata": {},
   "outputs": [],
   "source": [
    "transactions_products = transactions.merge(products, on=\"ProductID\", how=\"left\")\n",
    "\n",
    "# Aggregate transaction history for each customer\n",
    "customer_transactions = transactions_products.groupby('CustomerID').agg({\n",
    "    'TotalValue': 'sum',\n",
    "    'Quantity': 'sum',\n",
    "    'Category': lambda x: ','.join(x)  # Concatenate categories purchased\n",
    "}).reset_index()\n",
    "\n",
    "# Merge customer profile with transaction history\n",
    "customer_profiles = customers.merge(customer_transactions, on='CustomerID', how='left')\n",
    "\n",
    "# Fill missing values for customers with no transactions\n",
    "customer_profiles['TotalValue'] = customer_profiles['TotalValue'].fillna(0)\n",
    "customer_profiles['Quantity'] = customer_profiles['Quantity'].fillna(0)\n",
    "customer_profiles['Category'] = customer_profiles['Category'].fillna('')\n",
    "\n"
   ]
  },
  {
   "cell_type": "code",
   "execution_count": 13,
   "id": "c95022be-330f-44f3-a284-dbf9f5ce1287",
   "metadata": {},
   "outputs": [],
   "source": [
    "customer_profiles = pd.get_dummies(customer_profiles, columns=['Region'], drop_first=True)\n",
    "\n",
    "# Convert category string into one-hot encoded features\n",
    "category_dummies = customer_profiles['Category'].str.get_dummies(sep=',')\n",
    "customer_profiles = pd.concat([customer_profiles, category_dummies], axis=1).drop(columns=['Category'])\n",
    "\n",
    "# Normalize numeric columns for similarity calculation\n",
    "scaler = StandardScaler()\n",
    "numeric_cols = ['TotalValue', 'Quantity']\n",
    "customer_profiles[numeric_cols] = scaler.fit_transform(customer_profiles[numeric_cols])"
   ]
  },
  {
   "cell_type": "code",
   "execution_count": 15,
   "id": "fe5a81fb-9e09-4d5f-8a6b-86cf02e0be9b",
   "metadata": {},
   "outputs": [],
   "source": [
    "profile_features = customer_profiles.drop(columns=['CustomerID', 'CustomerName', 'SignupDate'])\n"
   ]
  },
  {
   "cell_type": "code",
   "execution_count": 39,
   "id": "7faf27a6-d4c7-4dcf-a019-a032cd972c0f",
   "metadata": {},
   "outputs": [],
   "source": [
    "def find_similar_customers(customer_id, top_n=3):\n",
    "    # Check if CustomerID exists\n",
    "    if customer_id not in customer_profiles['CustomerID'].values:\n",
    "        raise ValueError(f\"CustomerID {customer_id} does not exist in the dataset.\")\n",
    "    \n",
    "    # Get the profile of the input customer\n",
    "    customer_index = customer_profiles[customer_profiles['CustomerID'] == customer_id].index[0]\n",
    "    customer_vector = profile_features.iloc[customer_index].values.reshape(1, -1)\n",
    "    \n",
    "    # Compute similarity scores\n",
    "    similarity_scores = cosine_similarity(customer_vector, profile_features)[0]\n",
    "    \n",
    "    # Get top N similar customers\n",
    "    customer_profiles['SimilarityScore'] = similarity_scores\n",
    "    similar_customers = customer_profiles.sort_values(by='SimilarityScore', ascending=False).head(top_n + 1)\n",
    "    \n",
    "    # Exclude the input customer from results\n",
    "    similar_customers = similar_customers[similar_customers['CustomerID'] != customer_id]\n",
    "    \n",
    "    # Return top N similar customers\n",
    "    return similar_customers[['CustomerID', 'CustomerName', 'SimilarityScore']].head(top_n)\n"
   ]
  },
  {
   "cell_type": "code",
   "execution_count": 41,
   "id": "a02ab4b4-27b6-4ff7-a840-335e0a576ea4",
   "metadata": {},
   "outputs": [
    {
     "name": "stdout",
     "output_type": "stream",
     "text": [
      "['C0001' 'C0002' 'C0003' 'C0004' 'C0005' 'C0006' 'C0007' 'C0008' 'C0009'\n",
      " 'C0010' 'C0011' 'C0012' 'C0013' 'C0014' 'C0015' 'C0016' 'C0017' 'C0018'\n",
      " 'C0019' 'C0020' 'C0021' 'C0022' 'C0023' 'C0024' 'C0025' 'C0026' 'C0027'\n",
      " 'C0028' 'C0029' 'C0030' 'C0031' 'C0032' 'C0033' 'C0034' 'C0035' 'C0036'\n",
      " 'C0037' 'C0038' 'C0039' 'C0040' 'C0041' 'C0042' 'C0043' 'C0044' 'C0045'\n",
      " 'C0046' 'C0047' 'C0048' 'C0049' 'C0050' 'C0051' 'C0052' 'C0053' 'C0054'\n",
      " 'C0055' 'C0056' 'C0057' 'C0058' 'C0059' 'C0060' 'C0061' 'C0062' 'C0063'\n",
      " 'C0064' 'C0065' 'C0066' 'C0067' 'C0068' 'C0069' 'C0070' 'C0071' 'C0072'\n",
      " 'C0073' 'C0074' 'C0075' 'C0076' 'C0077' 'C0078' 'C0079' 'C0080' 'C0081'\n",
      " 'C0082' 'C0083' 'C0084' 'C0085' 'C0086' 'C0087' 'C0088' 'C0089' 'C0090'\n",
      " 'C0091' 'C0092' 'C0093' 'C0094' 'C0095' 'C0096' 'C0097' 'C0098' 'C0099'\n",
      " 'C0100' 'C0101' 'C0102' 'C0103' 'C0104' 'C0105' 'C0106' 'C0107' 'C0108'\n",
      " 'C0109' 'C0110' 'C0111' 'C0112' 'C0113' 'C0114' 'C0115' 'C0116' 'C0117'\n",
      " 'C0118' 'C0119' 'C0120' 'C0121' 'C0122' 'C0123' 'C0124' 'C0125' 'C0126'\n",
      " 'C0127' 'C0128' 'C0129' 'C0130' 'C0131' 'C0132' 'C0133' 'C0134' 'C0135'\n",
      " 'C0136' 'C0137' 'C0138' 'C0139' 'C0140' 'C0141' 'C0142' 'C0143' 'C0144'\n",
      " 'C0145' 'C0146' 'C0147' 'C0148' 'C0149' 'C0150' 'C0151' 'C0152' 'C0153'\n",
      " 'C0154' 'C0155' 'C0156' 'C0157' 'C0158' 'C0159' 'C0160' 'C0161' 'C0162'\n",
      " 'C0163' 'C0164' 'C0165' 'C0166' 'C0167' 'C0168' 'C0169' 'C0170' 'C0171'\n",
      " 'C0172' 'C0173' 'C0174' 'C0175' 'C0176' 'C0177' 'C0178' 'C0179' 'C0180'\n",
      " 'C0181' 'C0182' 'C0183' 'C0184' 'C0185' 'C0186' 'C0187' 'C0188' 'C0189'\n",
      " 'C0190' 'C0191' 'C0192' 'C0193' 'C0194' 'C0195' 'C0196' 'C0197' 'C0198'\n",
      " 'C0199' 'C0200']\n"
     ]
    }
   ],
   "source": [
    "print(customer_profiles['CustomerID'].unique())\n"
   ]
  },
  {
   "cell_type": "code",
   "execution_count": 51,
   "id": "bf7b6d21-3071-43f4-89d3-a96cfa054d25",
   "metadata": {},
   "outputs": [
    {
     "name": "stdout",
     "output_type": "stream",
     "text": [
      "    CustomerID   CustomerName  SimilarityScore\n",
      "173      C0174   Tracy Steele         0.992274\n",
      "151      C0152   Justin Evans         0.987448\n",
      "84       C0085  Richard Brown         0.915460\n"
     ]
    }
   ],
   "source": [
    "print(find_similar_customers(customer_id='C0001', top_n=3))\n"
   ]
  },
  {
   "cell_type": "code",
   "execution_count": 55,
   "id": "48c5a853-3518-4364-ae23-f88167c2f995",
   "metadata": {},
   "outputs": [
    {
     "name": "stdout",
     "output_type": "stream",
     "text": [
      "\n",
      "Scenario 2: Similar customers for CustomerID =C0199\n",
      "    CustomerID      CustomerName  SimilarityScore\n",
      "196      C0197  Christina Harvey         0.999921\n",
      "68       C0069      Stacy Foster         0.968181\n",
      "120      C0121     Mark Atkinson         0.896483\n"
     ]
    }
   ],
   "source": [
    "# Scenario 2: Find similar customers for CustomerID = 199\n",
    "print(\"\\nScenario 2: Similar customers for CustomerID =C0199\")\n",
    "print(find_similar_customers(customer_id='C0199', top_n=3))\n"
   ]
  },
  {
   "cell_type": "code",
   "execution_count": 57,
   "id": "dc97db05-07d1-40a3-abfd-141f2c350e2f",
   "metadata": {},
   "outputs": [
    {
     "name": "stdout",
     "output_type": "stream",
     "text": [
      "\n",
      "Scenario 3: Similar customers for CustomerID = 100\n",
      "    CustomerID      CustomerName  SimilarityScore\n",
      "169      C0170      Logan Harris         0.997609\n",
      "56       C0057  Elizabeth Nguyen         0.985227\n",
      "50       C0051    Nicholas Ellis         0.983534\n"
     ]
    }
   ],
   "source": [
    "# Scenario 3: Find similar customers for CustomerID = 100\n",
    "print(\"\\nScenario 3: Similar customers for CustomerID = 100\")\n",
    "print(find_similar_customers(customer_id='C0100', top_n=3))"
   ]
  },
  {
   "cell_type": "code",
   "execution_count": 59,
   "id": "9d0a8aea-f99f-4bd9-bdfb-09cdac12e689",
   "metadata": {},
   "outputs": [
    {
     "name": "stdout",
     "output_type": "stream",
     "text": [
      "CustomerID: C0001\n",
      "CustomerID  SimilarityScore\n",
      "     C0174         0.992274\n",
      "     C0152         0.987448\n",
      "     C0085         0.915460\n",
      "----------------------------------------\n",
      "CustomerID: C0002\n",
      "CustomerID  SimilarityScore\n",
      "     C0159         0.981171\n",
      "     C0144         0.876713\n",
      "     C0062         0.870678\n",
      "----------------------------------------\n",
      "CustomerID: C0003\n",
      "CustomerID  SimilarityScore\n",
      "     C0031         0.938680\n",
      "     C0129         0.923387\n",
      "     C0195         0.916365\n",
      "----------------------------------------\n",
      "CustomerID: C0004\n",
      "CustomerID  SimilarityScore\n",
      "     C0012         0.978457\n",
      "     C0148         0.961780\n",
      "     C0113         0.928956\n",
      "----------------------------------------\n",
      "CustomerID: C0005\n",
      "CustomerID  SimilarityScore\n",
      "     C0140         0.991344\n",
      "     C0007         0.986908\n",
      "     C0095         0.896656\n",
      "----------------------------------------\n",
      "CustomerID: C0006\n",
      "CustomerID  SimilarityScore\n",
      "     C0187         0.992461\n",
      "     C0108         0.943868\n",
      "     C0048         0.891310\n",
      "----------------------------------------\n",
      "CustomerID: C0007\n",
      "CustomerID  SimilarityScore\n",
      "     C0005         0.986908\n",
      "     C0140         0.967785\n",
      "     C0095         0.858843\n",
      "----------------------------------------\n",
      "CustomerID: C0008\n",
      "CustomerID  SimilarityScore\n",
      "     C0122         0.967305\n",
      "     C0046         0.961184\n",
      "     C0067         0.926089\n",
      "----------------------------------------\n",
      "CustomerID: C0009\n",
      "CustomerID  SimilarityScore\n",
      "     C0198         0.999981\n",
      "     C0058         0.799008\n",
      "     C0061         0.797044\n",
      "----------------------------------------\n",
      "CustomerID: C0010\n",
      "CustomerID  SimilarityScore\n",
      "     C0132         0.949835\n",
      "     C0061         0.887845\n",
      "     C0142         0.847519\n",
      "----------------------------------------\n",
      "CustomerID: C0011\n",
      "CustomerID  SimilarityScore\n",
      "     C0107         0.996339\n",
      "     C0126         0.976256\n",
      "     C0048         0.892381\n",
      "----------------------------------------\n",
      "CustomerID: C0012\n",
      "CustomerID  SimilarityScore\n",
      "     C0148         0.996541\n",
      "     C0004         0.978457\n",
      "     C0102         0.928225\n",
      "----------------------------------------\n",
      "CustomerID: C0013\n",
      "CustomerID  SimilarityScore\n",
      "     C0155         0.992345\n",
      "     C0099         0.985992\n",
      "     C0087         0.979563\n",
      "----------------------------------------\n",
      "CustomerID: C0014\n",
      "CustomerID  SimilarityScore\n",
      "     C0060         0.999374\n",
      "     C0097         0.933991\n",
      "     C0128         0.933055\n",
      "----------------------------------------\n",
      "CustomerID: C0015\n",
      "CustomerID  SimilarityScore\n",
      "     C0131         0.978487\n",
      "     C0123         0.919068\n",
      "     C0036         0.871785\n",
      "----------------------------------------\n",
      "CustomerID: C0016\n",
      "CustomerID  SimilarityScore\n",
      "     C0183         0.987624\n",
      "     C0154         0.892874\n",
      "     C0117         0.884987\n",
      "----------------------------------------\n",
      "CustomerID: C0017\n",
      "CustomerID  SimilarityScore\n",
      "     C0053         0.977371\n",
      "     C0041         0.971877\n",
      "     C0182         0.971287\n",
      "----------------------------------------\n",
      "CustomerID: C0018\n",
      "CustomerID  SimilarityScore\n",
      "     C0046         0.916198\n",
      "     C0122         0.912265\n",
      "     C0008         0.906148\n",
      "----------------------------------------\n",
      "CustomerID: C0019\n",
      "CustomerID  SimilarityScore\n",
      "     C0070         0.959247\n",
      "     C0172         0.882801\n",
      "     C0121         0.868162\n",
      "----------------------------------------\n",
      "CustomerID: C0020\n",
      "CustomerID  SimilarityScore\n",
      "     C0058         0.858785\n",
      "     C0033         0.855598\n",
      "     C0130         0.852561\n",
      "----------------------------------------\n"
     ]
    }
   ],
   "source": [
    "for customer_id in customer_profiles['CustomerID'].iloc[:20]:\n",
    "    print(f\"CustomerID: {customer_id}\")\n",
    "    similar_customers = find_similar_customers(customer_id=customer_id, top_n=3)\n",
    "    print(similar_customers[['CustomerID', 'SimilarityScore']].to_string(index=False))\n",
    "    print(\"-\" * 40)"
   ]
  },
  {
   "cell_type": "code",
   "execution_count": 69,
   "id": "23a30b2c-d603-4233-ac38-f0fa7b1d21ab",
   "metadata": {},
   "outputs": [],
   "source": [
    "# Create the lookalike map\n",
    "lookalike_map = {}\n",
    "\n",
    "# Iterate through the first 20 customers (C0001 to C0020)\n",
    "for customer_id in customer_profiles['CustomerID'].iloc[:20]:\n",
    "    similar_customers = find_similar_customers(customer_id=customer_id, top_n=3)\n",
    "    lookalike_map[customer_id] = similar_customers[['CustomerID', 'SimilarityScore']].values.tolist()\n",
    "\n",
    "\n",
    "lookalike_df = pd.DataFrame([\n",
    "    {'cust_id': cust_id, 'lookalikes': lookalikes}\n",
    "    for cust_id, lookalikes in lookalike_map.items()\n",
    "])\n",
    "\n",
    "# Save the DataFrame Excel file\n",
    "lookalike_df.to_excel(r\"C:\\Users\\sajal\\Downloads\\lookalike.xlsx\", index=False)"
   ]
  },
  {
   "cell_type": "code",
   "execution_count": null,
   "id": "17b8a1e8-15d6-4163-a6be-653da90b282c",
   "metadata": {},
   "outputs": [],
   "source": [
    "#data is saved to lookalive.xlsx\n"
   ]
  }
 ],
 "metadata": {
  "kernelspec": {
   "display_name": "Python 3 (ipykernel)",
   "language": "python",
   "name": "python3"
  },
  "language_info": {
   "codemirror_mode": {
    "name": "ipython",
    "version": 3
   },
   "file_extension": ".py",
   "mimetype": "text/x-python",
   "name": "python",
   "nbconvert_exporter": "python",
   "pygments_lexer": "ipython3",
   "version": "3.12.4"
  }
 },
 "nbformat": 4,
 "nbformat_minor": 5
}
